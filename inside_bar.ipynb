{
  "nbformat": 4,
  "nbformat_minor": 0,
  "metadata": {
    "colab": {
      "name": "inside bar.ipynb",
      "provenance": [],
      "collapsed_sections": [],
      "toc_visible": true,
      "authorship_tag": "ABX9TyN25pPWNOhbskoTGgs845fR",
      "include_colab_link": true
    },
    "kernelspec": {
      "name": "python3",
      "display_name": "Python 3"
    },
    "language_info": {
      "name": "python"
    }
  },
  "cells": [
    {
      "cell_type": "markdown",
      "metadata": {
        "id": "view-in-github",
        "colab_type": "text"
      },
      "source": [
        "<a href=\"https://colab.research.google.com/github/Rahulghuge94/Rahulghuge94/blob/main/inside_bar.ipynb\" target=\"_parent\"><img src=\"https://colab.research.google.com/assets/colab-badge.svg\" alt=\"Open In Colab\"/></a>"
      ]
    },
    {
      "cell_type": "code",
      "metadata": {
        "id": "ZySH_NzbWLpO"
      },
      "source": [
        "pip install yfinance"
      ],
      "execution_count": null,
      "outputs": []
    },
    {
      "cell_type": "code",
      "metadata": {
        "id": "Oa4TlH7uYq44"
      },
      "source": [
        "#library to download the data\n",
        "import yfinance as yf"
      ],
      "execution_count": null,
      "outputs": []
    },
    {
      "cell_type": "code",
      "metadata": {
        "id": "-zcFCLAZbjL8"
      },
      "source": [
        "#list of nifty 200 stocks.\n",
        "symbols=['IBULHSGFIN','AUROPHARMA','ADANIGREEN','CUMMINSIND','INDHOTEL','CHOLAFIN','FORTIS','COROMANDEL','M&MFIN','CADILAHC','NAUKRI','AARTIIND','SHREECEM','TORNTPHARM','ADANITRANS','BALKRISIND','GRASIM','ATGL','HINDZINC',\n",
        "         'PAGEIND','BATAINDIA','SRF','SUNPHARMA','BIOCON','ABCAPITAL','ASHOKLEY','JUBLFOOD','SIEMENS','ITC','BAJAJHLDNG','INDUSTOWER','COFORGE','EDELWEISS','ADANIENT','BHEL','APOLLOTYRE','MANAPPURAM','EMAMILTD','GLENMARK','L&TFH','OIL',\n",
        "         'RAMCOCEM','NAM-INDIA','VGUARD','PETRONET','GSPL','LTTS','TATACHEM','EICHERMOT','HDFCLIFE','IPCALAB','DALBHARAT','HINDUNILVR','JSWENERGY','MGL','ZEEL','DABUR','HINDALCO','SAIL','CIPLA','TATAMOTORS','GICRE','ESCORTS','NMDC','MRF',\n",
        "         'UBL','PEL','NAVINFLUOR','TECHM','SYNGENE','CROMPTON','DIVISLAB','LUPIN','MOTHERSUMI','GAIL','BAJAJFINSV','IDEA','HEROMOTOCO','TITAN','LT','EXIDEIND','PRESTIGE','APLLTD','INDIGO','TATACONSUM','MINDTREE','SANOFI','HUDCO','ENDURANCE',\n",
        "         'IRCTC','OFSS','TVSMOTOR','GMRINFRA','SUNTV','BAJFINANCE','BRITANNIA','MUTHOOTFIN','PNB','M&M','ISEC','BHARTIARTL','AMBUJACEM','COLPAL','BAJAJ-AUTO','LTI','AMARAJABAT','GODREJAGRO','FRETAIL','CASTROLIND','HDFCAMC','RBLBANK','NATCOPHARM',\n",
        "         'ACC','NESTLEIND','ICICIPRULI','PIDILITIND','ULTRACEMCO','GODREJPROP','HINDPETRO','RELIANCE','ALKEM','CONCOR','IDFCFIRSTB','IOC','BERGEPAINT','UNIONBANK','BEL','LALPATHLAB','WIPRO','BANDHANBNK','HCLTECH','GODREJIND','HAVELLS','AUBANK',\n",
        "         'SBILIFE','BHARATFORG','MFSL','BPCL','TORNTPOWER','ABFRL','DRREDDY','POWERGRID','MARUTI','PIIND','INFY','NATIONALUM','HDFCBANK','ASIANPAINT','ADANIPORTS','DMART','ICICIGI','GODREJCP','PFC','TATASTEEL','GUJGASLTD','BANKINDIA','TCS',\n",
        "         'DLF','ABBOTINDIA','FEDERALBNK','AJANTPHARM','JINDALSTEL','CESC','MARICO','HDFC','POLYCAB','NTPC','UPL','PFIZER','CUB','VOLTAS','JSWSTEEL','AXISBANK','RECLTD','ONGC','PGHH','TATAPOWER','WHIRLPOOL','VBL','MCDOWELL-N','IGL','INDUSINDBK',\n",
        "         'SBIN','ICICIBANK','COALINDIA','YESBANK','SBICARD','CANBK','BANKBARODA','BOSCHLTD','KOTAKBANK','LICHSGFIN','APOLLOHOSP','SRTRANSFIN']"
      ],
      "execution_count": null,
      "outputs": []
    },
    {
      "cell_type": "code",
      "metadata": {
        "id": "JklQhkUGbyxd"
      },
      "source": [
        "#downloading data and storing in list.\n",
        "data=[]\n",
        "for tick in symbols:\n",
        "    data.append([tick,yf.download(tick+\".ns\",start=\"2021-04-16\",stop=\"2021-04-23\",interval=\"1h\")])\n"
      ],
      "execution_count": null,
      "outputs": []
    },
    {
      "cell_type": "code",
      "metadata": {
        "id": "m3fccDZLzZaj"
      },
      "source": [
        "#function to print inside bar based on criteria that candle totally resides under close and open of mother bar. \n",
        "def inside_bar(df,stockname):\n",
        "    if df['Close'][-2]<df['Low'][-1] and df['Open'][-2]>df['High'][-1]:\n",
        "       print(\"Inside bar is formed in \",stockname,\"short below:\",df['Low'][-1],\" keep sl above:\",df[\"High\"][-1])\n",
        "    elif df['Open'][-2]<df['Low'][-1] and df['Close'][-2]>df['High'][-1]:\n",
        "       print(\"Inside bar is formed in \",stockname,\"long above:\",df['High'][-1],\" keep sl below:\",df[\"Low\"][-1])\n",
        "#function to print inside bar based on criteria that candle totally resides under low and high of mother bar. \n",
        "def inside_bar1(df,stockname):\n",
        "    if df['Low'][-2]<df['Low'][-1] and df['High'][-2]>df['High'][-1]:\n",
        "       print(\"Inside bar is formed in \",stockname,\"short below:\",df['Low'][-1],\" keep sl above:\",df[\"High\"][-1])"
      ],
      "execution_count": null,
      "outputs": []
    },
    {
      "cell_type": "code",
      "metadata": {
        "colab": {
          "base_uri": "https://localhost:8080/"
        },
        "id": "TPAoCpRuzaU1",
        "outputId": "855a514b-9060-49a5-dd44-5917578758a8"
      },
      "source": [
        "for tick in data:\n",
        "    inside_bar(tick[1],tick[0])"
      ],
      "execution_count": null,
      "outputs": [
        {
          "output_type": "stream",
          "text": [
            "Inside bar is formed in  SRTRANSFIN long above: 1383.050048828125  keep sl below: 1373.9000244140625\n"
          ],
          "name": "stdout"
        }
      ]
    }
  ]
}